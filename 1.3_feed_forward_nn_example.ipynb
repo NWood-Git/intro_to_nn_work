{
 "cells": [
  {
   "cell_type": "code",
   "execution_count": 1,
   "metadata": {},
   "outputs": [],
   "source": [
    "# 1.3.1 A feed-forward example - pg 11 - 12\n",
    "import numpy as np"
   ]
  },
  {
   "cell_type": "code",
   "execution_count": 2,
   "metadata": {},
   "outputs": [],
   "source": [
    "w1 = np.array([[0.2, 0.2, 0.2],\n",
    "                [0.4, 0.4, 0.4],\n",
    "                [0.6, 0.6, 0.6]])\n",
    "\n",
    "w2 = np.zeros((1,3))\n",
    "w2[0,:] = np.array([0.5, 0.5, 0.5])\n",
    "\n",
    "b1 = np.array([0.8, 0.8, 0.8])\n",
    "b2 = np.array([0.2])"
   ]
  },
  {
   "cell_type": "code",
   "execution_count": 3,
   "metadata": {},
   "outputs": [],
   "source": [
    "# Activation Function (Sigmoid)\n",
    "def f(x):\n",
    "    return 1/ (1 + np.exp(-x))"
   ]
  },
  {
   "cell_type": "code",
   "execution_count": 4,
   "metadata": {},
   "outputs": [],
   "source": [
    "def simple_looped_nn_calc(n_layers, x, w, b):\n",
    "    for l in range(n_layers-1):\n",
    "        #Setup the input array which the weights will be multiplied by for each layer\n",
    "        #If it's the first layer, the input array will be the x input vector\n",
    "        #If it's not the first layer, the input to the next layer will be the \n",
    "        #output of the previous layer\n",
    "        if l == 0:\n",
    "            node_in = x\n",
    "        else:\n",
    "            node_in = h\n",
    "        #Setup the output array for the nodes in layer l + 1\n",
    "        h = np.zeros((w[l].shape[0],)) \n",
    "        # w.shape gives a tuple (n, m). where n is the # of rows and m  is the # of columns\n",
    "        #I believe w.shape[0] returns the number of rows in w.\n",
    "        #Loop through the rows of the weight array\n",
    "        for i in range(w[l].shape[0]):\n",
    "            #setup the sum inside the activation function\n",
    "            f_sum = 0\n",
    "            # loop through the columns of the weight array\n",
    "            for j in range(w[1].shape[1]):\n",
    "                f_sum += w[l][i][j] * node_in[j]\n",
    "            # add the bias\n",
    "            f_sum += b[l][i]\n",
    "            #finally use the activation function to calculate the\n",
    "            # i-th output i.e. h1, h2, h3\n",
    "            h[i] = f(f_sum)\n",
    "    return h"
   ]
  },
  {
   "cell_type": "code",
   "execution_count": 5,
   "metadata": {},
   "outputs": [],
   "source": [
    "w = [w1, w2]\n",
    "b = [b1, b2]\n",
    "#a dummy x input vector\n",
    "x = [1.5, 2.0, 3.0]"
   ]
  },
  {
   "cell_type": "code",
   "execution_count": 6,
   "metadata": {},
   "outputs": [
    {
     "name": "stdout",
     "output_type": "stream",
     "text": [
      "[0.83545566]\n"
     ]
    }
   ],
   "source": [
    "print(simple_looped_nn_calc(3,x,w,b))\n"
   ]
  },
  {
   "cell_type": "code",
   "execution_count": 7,
   "metadata": {},
   "outputs": [
    {
     "name": "stdout",
     "output_type": "stream",
     "text": [
      "15.4 µs ± 130 ns per loop (mean ± std. dev. of 7 runs, 100000 loops each)\n"
     ]
    }
   ],
   "source": [
    "%timeit simple_looped_nn_calc(3,x,w,b)"
   ]
  },
  {
   "cell_type": "code",
   "execution_count": null,
   "metadata": {},
   "outputs": [],
   "source": []
  }
 ],
 "metadata": {
  "kernelspec": {
   "display_name": "Python 3",
   "language": "python",
   "name": "python3"
  },
  "language_info": {
   "codemirror_mode": {
    "name": "ipython",
    "version": 3
   },
   "file_extension": ".py",
   "mimetype": "text/x-python",
   "name": "python",
   "nbconvert_exporter": "python",
   "pygments_lexer": "ipython3",
   "version": "3.6.9"
  }
 },
 "nbformat": 4,
 "nbformat_minor": 4
}
